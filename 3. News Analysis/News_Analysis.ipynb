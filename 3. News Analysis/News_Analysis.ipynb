{
  "nbformat": 4,
  "nbformat_minor": 0,
  "metadata": {
    "colab": {
      "name": "News Analysis.ipynb",
      "provenance": [],
      "collapsed_sections": []
    },
    "kernelspec": {
      "name": "python3",
      "display_name": "Python 3"
    }
  },
  "cells": [
    {
      "cell_type": "code",
      "metadata": {
        "id": "6Hnd9jW8hFAe"
      },
      "source": [
        "import os"
      ],
      "execution_count": null,
      "outputs": []
    },
    {
      "cell_type": "code",
      "metadata": {
        "id": "OPR5Z_jWjlfn"
      },
      "source": [
        "os.environ['KAGGLE_USERNAME'] = \"tamal2000\"\n",
        "os.environ['KAGGLE_KEY'] = \"c8692b818a5ce9657132aaf9a3889008\" #use your id"
      ],
      "execution_count": null,
      "outputs": []
    },
    {
      "cell_type": "code",
      "metadata": {
        "id": "TgUsSK2tlPGL"
      },
      "source": [
        "!pip install -q kaggle --upgrade\n",
        "import kaggle"
      ],
      "execution_count": null,
      "outputs": []
    },
    {
      "cell_type": "code",
      "metadata": {
        "id": "oXAjGjVHlQkd"
      },
      "source": [
        "!echo '{\"username\":\"USERNAME\",\"key\":\"KEY\"}' > ~/.kaggle/kaggle.json"
      ],
      "execution_count": null,
      "outputs": []
    },
    {
      "cell_type": "code",
      "metadata": {
        "id": "Wbrf0irblWaZ",
        "colab": {
          "base_uri": "https://localhost:8080/",
          "height": 68
        },
        "outputId": "ae3a4f6d-0b9c-44cd-b783-438c00b59401"
      },
      "source": [
        "!kaggle datasets download -d rmisra/news-category-dataset"
      ],
      "execution_count": null,
      "outputs": [
        {
          "output_type": "stream",
          "text": [
            "Downloading news-category-dataset.zip to /content\n",
            " 79% 20.0M/25.4M [00:00<00:00, 25.8MB/s]\n",
            "100% 25.4M/25.4M [00:00<00:00, 64.4MB/s]\n"
          ],
          "name": "stdout"
        }
      ]
    },
    {
      "cell_type": "code",
      "metadata": {
        "id": "dF1ALsXsleKh"
      },
      "source": [
        "#unzip by using ZipFile module\n",
        "from zipfile import ZipFile\n",
        "\n",
        "# Create a ZipFile Object and extract\n",
        "with ZipFile('news-category-dataset.zip', 'r') as zipObj:\n",
        " zipObj.extractall()"
      ],
      "execution_count": null,
      "outputs": []
    },
    {
      "cell_type": "code",
      "metadata": {
        "id": "eCLMFMhAmv4N"
      },
      "source": [
        "import json \n",
        "from pandas.io.json import json_normalize\n",
        "import requests\n",
        "import pandas as pd\n",
        "import numpy as np\n"
      ],
      "execution_count": null,
      "outputs": []
    },
    {
      "cell_type": "markdown",
      "metadata": {
        "id": "M32S2HIopis-"
      },
      "source": [
        "## Data Pre-processing\n",
        "\n",
        "### Data gathering"
      ]
    },
    {
      "cell_type": "code",
      "metadata": {
        "id": "IeiilU_Em_PD"
      },
      "source": [
        "url = 'https://newsapi.org/v2/everything?q=apple&from=2020-05-15&to=2020-05-15&sortBy=popularity&apiKey=7da74b8009ae4c098a9c5d8942f48417'"
      ],
      "execution_count": null,
      "outputs": []
    },
    {
      "cell_type": "code",
      "metadata": {
        "id": "BdZdcbYsnaOn"
      },
      "source": [
        "request  = requests.get(url).json()"
      ],
      "execution_count": null,
      "outputs": []
    },
    {
      "cell_type": "code",
      "metadata": {
        "id": "ADOnhfrop-tA",
        "colab": {
          "base_uri": "https://localhost:8080/",
          "height": 54
        },
        "outputId": "ee9b18c7-148a-4eb6-afcd-958cf852d478"
      },
      "source": [
        "print (request)"
      ],
      "execution_count": null,
      "outputs": [
        {
          "output_type": "stream",
          "text": [
            "{'status': 'ok', 'totalResults': 3043, 'articles': [{'source': {'id': None, 'name': 'Lifehacker.com'}, 'author': 'Emily Price', 'title': 'How to Update Your iPhone and All Your Apps', 'description': 'Unlike Android devices, whose major updates roll out slowly across different devices, carriers, and manufacturers, all Apple devices get new updates at exactly the same time. The act of updating your iPhone or iPad is easy, but there are plenty of details you…', 'url': 'https://lifehacker.com/how-to-update-your-iphone-and-all-your-apps-1843480748', 'urlToImage': 'https://i.kinja-img.com/gawker-media/image/upload/c_fill,f_auto,fl_progressive,g_center,h_675,pg_1,q_80,w_1200/m9zte1cexy30t5jrrijz.jpg', 'publishedAt': '2020-05-15T17:45:00Z', 'content': 'Unlike Android devices, whose major updates roll out slowly across different devices, carriers, and manufacturers, all Apple devices get new updates at exactly the same time. The act of updating your iPhone or iPad is easy, but there are plenty of details you… [+3774 chars]'}, {'source': {'id': None, 'name': 'Lifehacker.com'}, 'author': 'Beth Skwarecki on Vitals, shared by Beth Skwarecki to Lifehacker', 'title': 'How to Eat Healthy', 'description': 'Eating healthy is good for you, no matter who you are or what your goals. But it can be tricky to know where to start (especially if you don’t have a weight loss focus), so here are your basic guidelines for healthy eating. Read more...', 'url': 'https://vitals.lifehacker.com/how-to-eat-healthy-1843484180', 'urlToImage': 'https://i.kinja-img.com/gawker-media/image/upload/c_fill,f_auto,fl_progressive,g_center,h_675,pg_1,q_80,w_1200/k6frkzbbzuk7ksnodw8v.jpg', 'publishedAt': '2020-05-15T20:15:00Z', 'content': 'Eating healthy is good for you, no matter who you are or what your goals. But it can be tricky to know where to start (especially if you dont have a weight loss focus), so here are your basic guidelines for healthy eating. \\r\\nTheres no perfect diet\\r\\nBefore we … [+5019 chars]'}, {'source': {'id': 'engadget', 'name': 'Engadget'}, 'author': 'Mariella Moon', 'title': \"Apple could launch an 'affordable' 10-inch iPad this year\", 'description': 'Apple may have a couple more product launches scheduled for late 2020 and early 2021 despite production issues brought about by the coronavirus pandemic. According to notable analyst Ming-Chi Kuo, the tech giant could launch an affordable 10.8-inch iPad in th…', 'url': 'https://www.engadget.com/apple-affordable-10-inch-i-pad-033524590.html', 'urlToImage': 'https://o.aolcdn.com/images/dims?resize=1200%2C630&crop=1200%2C630%2C0%2C0&quality=80&image_uri=https%3A%2F%2Fs.yimg.com%2Fos%2Fcreatr-images%2F2020-01%2Fd09639e0-42c8-11ea-be7f-e08d286de858&client=amp-blogside-v2&signature=3c9315f95c2015f790b5d482aedad5f9d7b059c4', 'publishedAt': '2020-05-15T03:35:24Z', 'content': 'Apple may have a couple more product launches scheduled for late 2020 and early 2021 despite production issues brought about by the coronavirus pandemic. According to notable analyst Ming-Chi Kuo, the tech giant could launch an affordable 10.8-inch iPad in th… [+678 chars]'}, {'source': {'id': 'engadget', 'name': 'Engadget'}, 'author': 'Engadget', 'title': \"The Morning After: A free 'GTA V' offer crashed the Epic Games Store\", 'description': 'A little more than five years after NextVR streamed its first live VR broadcast from California to my house in Michigan, Apple confirmed it’s acquiring the startup. While Apple has built AR features into some of its platforms already, rumors of a bigger push …', 'url': 'https://www.engadget.com/the-morning-after-gta-v-nextvr-apple-112521108.html', 'urlToImage': 'https://o.aolcdn.com/images/dims?resize=1200%2C630&crop=1200%2C630%2C0%2C0&quality=80&image_uri=https%3A%2F%2Fs.yimg.com%2Fos%2Fcreatr-uploaded-images%2F2020-05%2F504f2f20-969d-11ea-be5b-c08415b9519e&client=amp-blogside-v2&signature=dacad21f768e0debc3b67acfa767e9d6e9f2215a', 'publishedAt': '2020-05-15T11:25:21Z', 'content': 'A little more than five years after NextVR streamed its first live VR broadcast from California to my house in Michigan, Apple confirmed it’s acquiring the startup. While Apple has built AR features into some of its platforms already, rumors of a bigger push … [+3432 chars]'}, {'source': {'id': 'engadget', 'name': 'Engadget'}, 'author': 'Devindra Hardawar', 'title': 'Surface Earbuds and and Headphones 2 review: Comfort is king', 'description': \"Microsoft can't help but be different. Its Surface computers have all tried to deliver something new in the PC world (well, except for the conventional Surface Laptop). So it wasn’t a huge surprise that the Surface Headphones brought a few new ideas to the pr…\", 'url': 'https://www.engadget.com/surface-earbuds-headphones-2-review-163055593.html', 'urlToImage': 'https://o.aolcdn.com/images/dims?resize=1200%2C630&crop=1200%2C630%2C0%2C0&quality=80&image_uri=https%3A%2F%2Fs.yimg.com%2Fos%2Fcreatr-uploaded-images%2F2020-05%2Fce0f03d0-96bc-11ea-bfee-086c28d8186d&client=amp-blogside-v2&signature=e522ce5ffdd48a86eb4d748ea49466ff98aa29f1', 'publishedAt': '2020-05-15T16:30:55Z', 'content': \"Both the Surface Earbuds and Headphone 2 feature a plethora of microphones, which was particularly helpful whenever I need to jump on phone calls and Zoom chats. According to my colleagues, both sets sounded crisp and clear. That's more than I can say for man… [+2941 chars]\"}, {'source': {'id': 'engadget', 'name': 'Engadget'}, 'author': 'Valentina Palladino', 'title': 'The best deals we found this week: AirPods Pro, the iPad and more', 'description': 'Lots of popular electronics went on sale this week as early Memorial Day deals started to pop up. Notably, the AirPods Pro remain at their lowest price ever on Amazon, so you can snag a pair for only $228. Apple’s 10.2-inch iPad is also on sale for $250 — an …', 'url': 'https://www.engadget.com/weekly-deals-airpods-pro-ipad-171505326.html', 'urlToImage': 'https://o.aolcdn.com/images/dims?resize=1200%2C630&crop=1200%2C630%2C0%2C0&quality=80&image_uri=https%3A%2F%2Fs.yimg.com%2Fos%2Fcreatr-uploaded-images%2F2020-05%2Feafaaea0-96ac-11ea-be38-3153af6f6324&client=amp-blogside-v2&signature=5e190d23e733a16812a73efa71ba3289e8f32c44', 'publishedAt': '2020-05-15T17:15:05Z', 'content': 'Buy AirPods Pro at Amazon - $228\\r\\n10.2-inch iPad\\r\\nYou can still snag the 10.2-inch iPad (WiFi only) for only $250 at Amazon and Best Buy. This is one of the lowest prices we’ve seen on Apple’s most affordable iPad, which normally costs $330. We gave the base … [+4094 chars]'}, {'source': {'id': 'wired', 'name': 'Wired'}, 'author': 'Arielle Pardes', 'title': 'Silicon Valley Rethinks the (Home) Office', 'description': 'Some tech companies are adjusting to the pandemic with new WFH perks and even letting employees ditch their commutes forever.', 'url': 'https://www.wired.com/story/silicon-valley-rethinks-home-office-twitter-slack/', 'urlToImage': 'https://media.wired.com/photos/5ebc438cd58e99fafced804d/191:100/w_1280,c_limit/Biz-catcomp-1180346051.jpg', 'publishedAt': '2020-05-15T11:00:00Z', 'content': 'For years, tech companies have lured talent with sweet in-office perks: lavish lunch buffets, beer and wine on tap, on-site massage therapy and chiropractic treatment. To work for Apple or Google or Facebook or Salesforce is not just to do a job, but to gain … [+3782 chars]'}, {'source': {'id': 'wired', 'name': 'Wired'}, 'author': 'Will Knight', 'title': 'The US Will Help a Taiwan Firm Build a Chip Plant in Arizona', 'description': 'The announcement comes as the Commerce Department issues new restrictions on sales to Huawei, the latest sign of US-China friction.', 'url': 'https://www.wired.com/story/us-help-taiwan-firm-build-chip-plant-iarizona/', 'urlToImage': 'https://media.wired.com/photos/5ebeca37c10bbb57867d230f/191:100/w_1280,c_limit/Biz-huawei-1128822574.jpg', 'publishedAt': '2020-05-15T17:30:10Z', 'content': 'In a one-two punch aimed at Chinas rising technological prowess, Taiwan Semiconductor Manufacturing Company (TSMC), the worlds leading contract manufacturer of chips, said it would build a manufacturing plant in the US and the White House announced new rules … [+4135 chars]'}, {'source': {'id': 'the-verge', 'name': 'The Verge'}, 'author': 'Andrew Marino', 'title': 'Questions about Facebook’s oversight board, Quibi’s popularity, and the Pixel 4A', 'description': 'Nilay Patel and Dieter Bohn welcome Dan Seifert, Casey Newton, and Julia Alexander to talk about gadget news, Facebook’s oversight board, and updates in the streaming world.', 'url': 'https://www.theverge.com/2020/5/15/21259854/facebook-oversight-board-pixel-4a-streaming-wars-quibi-hbo-max-vergecast-405', 'urlToImage': 'https://cdn.vox-cdn.com/thumbor/wbIoDpMZy3dsYeYpSGWLoVqCSwk=/0x146:2040x1214/fit-in/1200x630/cdn.vox-cdn.com/uploads/chorus_asset/file/15948799/wjoel_180319_2394_facebook_006.0_1.jpg', 'publishedAt': '2020-05-15T15:58:14Z', 'content': 'Illustration by William Joel / T\\n\\n On this episode of The Vergecast, hosts Nilay Patel and Dieter Bohn welcome on a few of our colleagues to discuss the week’s important stories.\\nFirst up, deputy editor Dan Seifert stops by to cover our recent 13-inch MacBook… [+3251 chars]'}, {'source': {'id': 'the-verge', 'name': 'The Verge'}, 'author': 'Cameron Faulkner', 'title': 'How to buy refurbished gadgets', 'description': 'Buying refurbished tech products is a good way to save money and reduce e-waste. It’s not as simple as buying new, but our vetting process for buying used, repaired phones, computers, and more should help.', 'url': 'https://www.theverge.com/21258681/refurbished-tech-products-gadgets-how-to-buy-used-repair-e-waste', 'urlToImage': 'https://cdn.vox-cdn.com/thumbor/BhMKr9ZaocG0wwodkyL9IrpXACg=/0x146:2040x1214/fit-in/1200x630/cdn.vox-cdn.com/uploads/chorus_asset/file/16195138/akrales_190424_3301_0426.jpg', 'publishedAt': '2020-05-15T18:13:51Z', 'content': 'Its always a gamble, but the odds are in your favor\\r\\nPhoto by Amelia Holowaty Krales / The Verge\\r\\nIf you buy something from a Verge link, Vox Media may earn a commission. See our ethics statement.\\r\\nBuying a refurbished tech product will save you money compare… [+12253 chars]'}, {'source': {'id': 'techcrunch', 'name': 'TechCrunch'}, 'author': 'Anthony Ha', 'title': 'Daily Crunch: Facebook is acquiring Giphy', 'description': 'Facebook acquires a popular GIF search engine, video game sales see major growth and Sorrentino reports promising results for a COVID-19 treatment. Here’s your Daily Crunch for May 15, 2020. 1. Facebook to acquire Giphy in a deal reportedly worth $400 million…', 'url': 'http://techcrunch.com/2020/05/15/daily-crunch-facebook-is-acquiring-giphy/', 'urlToImage': 'https://techcrunch.com/wp-content/uploads/2020/05/GIPHYBrandGuide.jpg?w=711', 'publishedAt': '2020-05-15T16:58:27Z', 'content': 'Facebook acquires a popular GIF search engine, video game sales see major growth and Sorrentino reports promising results for a COVID-19 treatment.\\r\\nHere’s your Daily Crunch for May 15, 2020.\\r\\n1. Facebook to acquire Giphy in a deal reportedly worth $400 milli… [+2922 chars]'}, {'source': {'id': 'techcrunch', 'name': 'TechCrunch'}, 'author': 'Catherine Shu', 'title': 'TSMC to build a $12 billion advanced semiconductor plant in Arizona with U.S. government support', 'description': 'Taiwan Semiconductor Manufacturing Co., the world’s largest contract semiconductor foundry, said today that it plans to build an advanced chip foundry in Arizona with support from the state and the United States federal government. The announcement follows a …', 'url': 'http://techcrunch.com/2020/05/14/tsmc-to-build-a-12-billion-advanced-semiconductor-plant-in-arizona-with-u-s-government-support/', 'urlToImage': 'https://techcrunch.com/wp-content/uploads/2020/05/GettyImages-1061214028.jpg?w=533', 'publishedAt': '2020-05-15T03:22:45Z', 'content': 'Taiwan Semiconductor Manufacturing Co., the worlds largest contract semiconductor foundry, said today that it plans to build an advanced chip foundry in Arizona with support from the state and the United States federal government.\\r\\nThe announcement follows a … [+1706 chars]'}, {'source': {'id': 'techcrunch', 'name': 'TechCrunch'}, 'author': 'Rita Liao', 'title': 'China’s embattled Luckin Coffee adds lifestyle products to its menu', 'description': 'The Luckin saga continues as the Chinese coffee challenger seeks solutions to the undesirable consequences of a\\xa0$310 million fraud. On Tuesday, the company announced sacking chief operating officer Liu Jian, the alleged mastermind behind the fraud, and chief …', 'url': 'http://techcrunch.com/2020/05/14/china-luckin-coffee-sells-lifestyle-products/', 'urlToImage': 'https://techcrunch.com/wp-content/uploads/2019/05/luckin-2-e1558668729348.jpg?w=752', 'publishedAt': '2020-05-15T06:57:00Z', 'content': 'The Luckin saga continues as the Chinese coffee challenger seeks solutions to the undesirable consequences of a\\xa0$310 million fraud. On Tuesday, the company announced sacking chief operating officer Liu Jian, the alleged mastermind behind the fraud, and chief … [+2432 chars]'}, {'source': {'id': None, 'name': 'Gizmodo.com'}, 'author': 'Alyse Stanley', 'title': 'This Proposed Bill Would Protect Health Data Shared on Coronavirus Contact-Tracing Apps', 'description': 'On Thursday, Democrats from both houses of Congress introduced the Public Health Emergency Privacy Act, legislation that aims to safeguard the kind\\xa0of health data consumers can share with contact-tracing apps and, hopefully, satisfy privacy concerns that woul…', 'url': 'https://gizmodo.com/this-proposed-bill-would-protect-health-data-shared-on-1843470846', 'urlToImage': 'https://i.kinja-img.com/gawker-media/image/upload/c_fill,f_auto,fl_progressive,g_center,h_675,pg_1,q_80,w_1200/gi9xifix76nxd2khofwh.jpg', 'publishedAt': '2020-05-15T02:00:00Z', 'content': 'On Thursday, Democrats from both houses of Congress introduced the Public Health Emergency Privacy Act, legislation that aims to safeguard the kind of health data consumers can share with contact-tracing apps and, hopefully, satisfy privacy concerns that woul… [+2945 chars]'}, {'source': {'id': None, 'name': 'Gizmodo.com'}, 'author': 'Tom McKay', 'title': 'U.S. Feud With China Brings Dramatic Expansion of Sanctions on Huawei', 'description': 'In yet another escalation of the ongoing U.S.-China feud over Chinese tech giant Huawei, Donald Trump’s administration took steps to greatly expand punitive trade sanctions against the company on Friday, Reuters reported.Read more...', 'url': 'https://gizmodo.com/u-s-feud-with-china-brings-dramatic-expansion-of-sanct-1843485484', 'urlToImage': 'https://i.kinja-img.com/gawker-media/image/upload/c_fill,f_auto,fl_progressive,g_center,h_675,pg_1,q_80,w_1200/thtotgcnjm42a6ireyue.jpg', 'publishedAt': '2020-05-15T22:10:00Z', 'content': 'In yet another escalation of the ongoing U.S.-China feud over Chinese tech giant Huawei, Donald Trumps administration took steps to greatly expand punitive trade sanctions against the company on Friday, Reuters reported.\\r\\nHuawei is the worlds largest telecomm… [+3144 chars]'}, {'source': {'id': None, 'name': 'Gizmodo.com'}, 'author': 'Sam Rutherford', 'title': 'No, the OnePlus 8 Pro Does Not Have X-Ray Vision', 'description': 'Back when I reviewed the OnePlus 8 Pro, I said the phone’s built-in color filter camera felt gimmicky considering it only offered four different filter effects. But as it turns out, the OnePlus 8 Pro’s color filter camera is way more gimmicky that I had thoug…', 'url': 'https://gizmodo.com/no-the-oneplus-8-pro-does-not-have-x-ray-vision-1843481345', 'urlToImage': 'https://i.kinja-img.com/gawker-media/image/upload/c_fill,f_auto,fl_progressive,g_center,h_675,pg_1,q_80,w_1200/d8ai9r4dec1te0mubunz.jpg', 'publishedAt': '2020-05-15T17:50:00Z', 'content': 'Back when I reviewed the OnePlus 8 Pro, I said the phones built-in color filter camera felt gimmicky considering it only offered four different filter effects. But as it turns out, the OnePlus 8 Pros color filter camera is way more gimmicky that I had thought… [+3332 chars]'}, {'source': {'id': 'mashable', 'name': 'Mashable'}, 'author': 'Veronika Kero', 'title': 'This portable charger for your Apple Watch can easily clip onto your keys', 'description': 'TL;DR: Never get stranded without the ability to track your steps, workouts, or breaths per minute with this Apple Watch wireless charger keychain for $19.99, a 59% savings as of May 15.\\n\\nWhile most of us keep a watchful eye on our smartphone battery at all t…', 'url': 'https://mashable.com/shopping/may-15-apple-watch-wireless-charger-sale/', 'urlToImage': 'https://mondrian.mashable.com/2020%252F05%252F15%252F62%252Fd05f353cfb664fb79c8c2042c0fa1c4d.e6c08.jpg%252F1200x630.jpg?signature=SMvQj7LChhZayfCo2lAV9J6Rys4=', 'publishedAt': '2020-05-15T09:00:00Z', 'content': 'TL;DR: Never get stranded without the ability to track your steps, workouts, or breaths per minute with this Apple Watch wireless charger keychain for $19.99, a 59% savings as of May 15.\\r\\nWhile most of us keep a watchful eye on our smartphone battery at all t… [+1637 chars]'}, {'source': {'id': 'mashable', 'name': 'Mashable'}, 'author': 'Jack Morse', 'title': 'Amazon to sell its own face shields and this is normal now', 'description': \"Amazon is getting into the personal protective equipment (PPE) business.\\xa0\\nIn a Thursday blog post, Amazon vice president Brad Porter announced his company's plan to manufacture face shields — like the one pictured above — at scale. What's more, at some indete…\", 'url': 'https://mashable.com/article/amazon-to-sell-ppe-face-shields/', 'urlToImage': 'https://mondrian.mashable.com/2020%252F05%252F15%252F38%252F32ec8b85e99644f5a3a5899874a6bc1e.33c35.png%252F1200x630.png?signature=zGvir3WZF_czxqR0jttU_vGZH4A=', 'publishedAt': '2020-05-15T00:58:47Z', 'content': \"Amazon is getting into the personal protective equipment (PPE) business.\\xa0\\r\\nIn a Thursday blog post, Amazon vice president Brad Porter announced his company's plan to manufacture face shields like the one pictured above at scale. What's more, at some indetermi… [+1970 chars]\"}, {'source': {'id': 'mashable', 'name': 'Mashable'}, 'author': 'Nicole Gallucci', 'title': \"John Krasinski reveals he's in possession of Pam's teapot from 'The Office'\", 'description': 'It\\'s been nearly seven years since The Office ended, but we finally know the whereabouts of the teapot Jim Halpert gave Pam Beesly in the \"Christmas Party\" episode of the show.\\nIt\\'s safe and sound at John Krasinski\\'s house.\\nOn the latest episode of the Office…', 'url': 'https://mashable.com/article/john-krasinski-teapot-the-office/', 'urlToImage': 'https://mondrian.mashable.com/2020%252F05%252F15%252F2c%252F879cbfc900854d1c936cd9fa13a786d9.a65e3.png%252F1200x630.png?signature=zpG87ph56dGkbu0qQCF3mD8ikMo=', 'publishedAt': '2020-05-15T15:35:51Z', 'content': 'It\\'s been nearly seven years since The Office ended, but we finally know the whereabouts of the teapot Jim Halpert gave Pam Beesly in the \"Christmas Party\" episode of the show.\\r\\nIt\\'s safe and sound at John Krasinski\\'s house.\\r\\nOn the latest episode of the Offi… [+2995 chars]'}, {'source': {'id': 'ars-technica', 'name': 'Ars Technica'}, 'author': 'Jennifer Ouellette', 'title': 'Apple TV+ drops teaser for special Mythic Quest: Quarantine episode', 'description': '\"Poppy is being mean in Australian. Is the meeting almost over?\"', 'url': 'https://arstechnica.com/gaming/2020/05/apple-tv-drops-teaser-for-special-mythic-quest-quarantine-episode/', 'urlToImage': 'https://cdn.arstechnica.net/wp-content/uploads/2020/05/mythic3-760x380.jpg', 'publishedAt': '2020-05-15T23:00:35Z', 'content': '1 with 1 posters participating\\r\\nTeaser for Mythic Quest: Quarantine dropping next week on Apple TV+.\\r\\nWith production temporarily halted on so many films and television shows, casts and crews are getting creative about bringing new content to all the people f… [+3955 chars]'}]}\n"
          ],
          "name": "stdout"
        }
      ]
    },
    {
      "cell_type": "code",
      "metadata": {
        "id": "SO_Qr9x9yjFx",
        "colab": {
          "base_uri": "https://localhost:8080/",
          "height": 54
        },
        "outputId": "48317d69-6404-4ac5-ba8a-a36d05486f79"
      },
      "source": [
        "title = request['articles'][1]['description']\n",
        "print (title)"
      ],
      "execution_count": null,
      "outputs": [
        {
          "output_type": "stream",
          "text": [
            "Eating healthy is good for you, no matter who you are or what your goals. But it can be tricky to know where to start (especially if you don’t have a weight loss focus), so here are your basic guidelines for healthy eating. Read more...\n"
          ],
          "name": "stdout"
        }
      ]
    },
    {
      "cell_type": "markdown",
      "metadata": {
        "id": "-x20MoVNLfXT"
      },
      "source": [
        "### Data cleanup"
      ]
    },
    {
      "cell_type": "code",
      "metadata": {
        "id": "6srhhn1vJrWR",
        "colab": {
          "base_uri": "https://localhost:8080/",
          "height": 54
        },
        "outputId": "921739a4-4934-4dcf-ed46-df68954b63a8"
      },
      "source": [
        "# remove text after seperator\n",
        "sep = '-'\n",
        "head, sep, tail = title.partition(sep)\n",
        "sep = '|'\n",
        "head, sep, tail = head.partition(sep)\n",
        "print(head)"
      ],
      "execution_count": null,
      "outputs": [
        {
          "output_type": "stream",
          "text": [
            "Eating healthy is good for you, no matter who you are or what your goals. But it can be tricky to know where to start (especially if you don’t have a weight loss focus), so here are your basic guidelines for healthy eating. Read more...\n"
          ],
          "name": "stdout"
        }
      ]
    },
    {
      "cell_type": "code",
      "metadata": {
        "id": "83f33j6l1Bzo",
        "colab": {
          "base_uri": "https://localhost:8080/",
          "height": 54
        },
        "outputId": "9453aa9e-eef7-4146-9387-028d418c4e7c"
      },
      "source": [
        "# convert to lowercase\n",
        "lowercase_title = head.lower()\n",
        "print(lowercase_title)"
      ],
      "execution_count": null,
      "outputs": [
        {
          "output_type": "stream",
          "text": [
            "eating healthy is good for you, no matter who you are or what your goals. but it can be tricky to know where to start (especially if you don’t have a weight loss focus), so here are your basic guidelines for healthy eating. read more...\n"
          ],
          "name": "stdout"
        }
      ]
    },
    {
      "cell_type": "code",
      "metadata": {
        "id": "GnLFxQFq12TX",
        "colab": {
          "base_uri": "https://localhost:8080/",
          "height": 34
        },
        "outputId": "cfc74e0a-e66f-42ed-b438-3c39ea0647fd"
      },
      "source": [
        "\n",
        "# removing punctuation \n",
        "import string\n",
        "print(string.punctuation)"
      ],
      "execution_count": null,
      "outputs": [
        {
          "output_type": "stream",
          "text": [
            "!\"#$%&'()*+,-./:;<=>?@[\\]^_`{|}~\n"
          ],
          "name": "stdout"
        }
      ]
    },
    {
      "cell_type": "code",
      "metadata": {
        "id": "3HdZIAfV2jA3",
        "colab": {
          "base_uri": "https://localhost:8080/",
          "height": 54
        },
        "outputId": "5270c387-35b9-4de2-e254-e35e07adb1a4"
      },
      "source": [
        "\n",
        "cleaned_title = lowercase_title.translate(str.maketrans('','',string.punctuation))\n",
        "print(cleaned_title)"
      ],
      "execution_count": null,
      "outputs": [
        {
          "output_type": "stream",
          "text": [
            "eating healthy is good for you no matter who you are or what your goals but it can be tricky to know where to start especially if you don’t have a weight loss focus so here are your basic guidelines for healthy eating read more\n"
          ],
          "name": "stdout"
        }
      ]
    },
    {
      "cell_type": "markdown",
      "metadata": {
        "id": "Q4fz9vgEIFbb"
      },
      "source": [
        "### Text tokenization "
      ]
    },
    {
      "cell_type": "code",
      "metadata": {
        "id": "WzWoeCgE4GeF",
        "colab": {
          "base_uri": "https://localhost:8080/",
          "height": 54
        },
        "outputId": "95548841-8819-4a0e-895e-9cfcd83190fe"
      },
      "source": [
        "tokenized_title = cleaned_title.split()\n",
        "print(tokenized_title)"
      ],
      "execution_count": null,
      "outputs": [
        {
          "output_type": "stream",
          "text": [
            "['eating', 'healthy', 'is', 'good', 'for', 'you', 'no', 'matter', 'who', 'you', 'are', 'or', 'what', 'your', 'goals', 'but', 'it', 'can', 'be', 'tricky', 'to', 'know', 'where', 'to', 'start', 'especially', 'if', 'you', 'don’t', 'have', 'a', 'weight', 'loss', 'focus', 'so', 'here', 'are', 'your', 'basic', 'guidelines', 'for', 'healthy', 'eating', 'read', 'more']\n"
          ],
          "name": "stdout"
        }
      ]
    },
    {
      "cell_type": "markdown",
      "metadata": {
        "id": "D-wzitU8OBoI"
      },
      "source": [
        "### Stop word cleanup"
      ]
    },
    {
      "cell_type": "code",
      "metadata": {
        "id": "xiH72EZULJAt",
        "colab": {
          "base_uri": "https://localhost:8080/",
          "height": 51
        },
        "outputId": "ecfd4f14-23de-4875-b901-3b84c7ce86e4"
      },
      "source": [
        "import nltk\n",
        "nltk.download(\"stopwords\")\n",
        "from nltk.corpus import stopwords"
      ],
      "execution_count": null,
      "outputs": [
        {
          "output_type": "stream",
          "text": [
            "[nltk_data] Downloading package stopwords to /root/nltk_data...\n",
            "[nltk_data]   Package stopwords is already up-to-date!\n"
          ],
          "name": "stdout"
        }
      ]
    },
    {
      "cell_type": "code",
      "metadata": {
        "id": "rfBAkcfZQHCQ",
        "colab": {
          "base_uri": "https://localhost:8080/",
          "height": 71
        },
        "outputId": "28c2a616-23ae-4288-cf78-3a31fdd122e7"
      },
      "source": [
        "stopWords = set(stopwords.words('english'))\n",
        "print(len(stopWords))\n",
        "print(stopWords)"
      ],
      "execution_count": null,
      "outputs": [
        {
          "output_type": "stream",
          "text": [
            "179\n",
            "{'s', \"it's\", \"don't\", \"wasn't\", \"doesn't\", 've', 'into', 'having', 'no', 'through', 'until', 'how', \"mustn't\", \"wouldn't\", 'my', 'were', 'being', 'about', 'but', 'when', 'out', 'needn', 'that', 'himself', 'them', 'all', 'down', 'wouldn', 'over', 'few', 'should', 'now', 'i', 'as', 'this', 'not', 'its', 'doesn', 'haven', 'shan', 'themselves', 'for', \"you'd\", 'doing', 'we', 'again', 'than', 'couldn', 'here', 'been', 'because', 'why', 'shouldn', 'or', \"aren't\", 'nor', 'her', \"you've\", 'just', 'she', 'are', 'once', 'some', \"should've\", 'isn', 'where', 'can', \"hasn't\", 're', 'other', 'yours', 'during', 'theirs', 'more', 'ain', 'wasn', 'their', 'yourselves', \"needn't\", 'what', 'at', 'below', \"she's\", \"won't\", 'and', 'with', 'yourself', 'you', 'of', 'own', 'ma', \"weren't\", 'to', 'any', 'd', 'so', 'after', 'between', \"shouldn't\", 'mustn', 'did', 'don', 'they', 'has', 'he', 'had', 'both', 'is', 'aren', 'your', 'then', \"didn't\", 'from', 'won', \"mightn't\", 'our', 'hers', \"hadn't\", 'his', 'if', 'only', 'those', 'itself', 'in', 'me', 'does', \"you're\", 'while', 'll', 'him', \"you'll\", 'be', \"couldn't\", 'will', 'against', 'herself', 'have', 'these', 'under', 'very', 'ours', 'an', 'ourselves', 'there', 'didn', 'a', 'same', 'o', 'off', 'most', 'which', 'each', 'weren', 'it', 'up', 'hadn', 'before', \"that'll\", 'whom', 'by', \"haven't\", 'above', 'mightn', 'am', 'who', 'do', 'was', 'such', 'too', 'm', 'y', \"shan't\", 'myself', 'on', 't', 'the', 'hasn', \"isn't\", 'further'}\n"
          ],
          "name": "stdout"
        }
      ]
    },
    {
      "cell_type": "code",
      "metadata": {
        "id": "L_VvHEWJRm5q",
        "colab": {
          "base_uri": "https://localhost:8080/",
          "height": 54
        },
        "outputId": "cfaaa029-7e0a-4125-99f1-dce5ca193ace"
      },
      "source": [
        "filtered_title = [w for w in tokenized_title if not w in stopWords] \n",
        "print(filtered_title)"
      ],
      "execution_count": null,
      "outputs": [
        {
          "output_type": "stream",
          "text": [
            "['eating', 'healthy', 'good', 'matter', 'goals', 'tricky', 'know', 'start', 'especially', 'don’t', 'weight', 'loss', 'focus', 'basic', 'guidelines', 'healthy', 'eating', 'read']\n"
          ],
          "name": "stdout"
        }
      ]
    },
    {
      "cell_type": "code",
      "metadata": {
        "id": "eWmZcVasTO9U",
        "colab": {
          "base_uri": "https://localhost:8080/",
          "height": 51
        },
        "outputId": "eeb8ff9b-b74a-4c54-b7ed-62248c427768"
      },
      "source": [
        "!pip install afinn -q"
      ],
      "execution_count": null,
      "outputs": [
        {
          "output_type": "stream",
          "text": [
            "\u001b[?25l\r\u001b[K     |██████▎                         | 10kB 21.2MB/s eta 0:00:01\r\u001b[K     |████████████▌                   | 20kB 1.8MB/s eta 0:00:01\r\u001b[K     |██████████████████▊             | 30kB 2.3MB/s eta 0:00:01\r\u001b[K     |█████████████████████████       | 40kB 2.6MB/s eta 0:00:01\r\u001b[K     |███████████████████████████████▏| 51kB 2.0MB/s eta 0:00:01\r\u001b[K     |████████████████████████████████| 61kB 1.9MB/s \n",
            "\u001b[?25h  Building wheel for afinn (setup.py) ... \u001b[?25l\u001b[?25hdone\n"
          ],
          "name": "stdout"
        }
      ]
    },
    {
      "cell_type": "code",
      "metadata": {
        "id": "TGSukQ7ESpTY"
      },
      "source": [
        "# initialize afinn sentiment analyzer\n",
        "from afinn import Afinn\n",
        "af = Afinn()\n",
        "\n",
        "# compute sentiment scores (polarity) and labels\n",
        "sentiment_scores = [af.score(article) for article in filtered_title]\n",
        "sentiment_category = ['positive' if score > 0 \n",
        "                          else 'negative' if score < 0 \n",
        "                              else 'neutral' \n",
        "                                  for score in sentiment_scores]\n",
        "    "
      ],
      "execution_count": null,
      "outputs": []
    },
    {
      "cell_type": "code",
      "metadata": {
        "id": "1QeDvTjxJNtX",
        "colab": {
          "base_uri": "https://localhost:8080/",
          "height": 34
        },
        "outputId": "9fd45d69-398b-45f0-9323-05e17ab33e3c"
      },
      "source": [
        "print(sentiment_scores)"
      ],
      "execution_count": null,
      "outputs": [
        {
          "output_type": "stream",
          "text": [
            "[0.0, 2.0, 3.0, 1.0, 0.0, 0.0, 0.0, 0.0, 0.0, 0.0, 0.0, -3.0, 0.0, 0.0, 0.0, 2.0, 0.0, 0.0]\n"
          ],
          "name": "stdout"
        }
      ]
    },
    {
      "cell_type": "code",
      "metadata": {
        "id": "EEvNsRBgTgxU",
        "colab": {
          "base_uri": "https://localhost:8080/",
          "height": 54
        },
        "outputId": "3175f62d-bbd8-48ea-9757-5ec9ea456904"
      },
      "source": [
        "print(sentiment_category)"
      ],
      "execution_count": null,
      "outputs": [
        {
          "output_type": "stream",
          "text": [
            "['neutral', 'positive', 'positive', 'positive', 'neutral', 'neutral', 'neutral', 'neutral', 'neutral', 'neutral', 'neutral', 'negative', 'neutral', 'neutral', 'neutral', 'positive', 'neutral', 'neutral']\n"
          ],
          "name": "stdout"
        }
      ]
    },
    {
      "cell_type": "code",
      "metadata": {
        "id": "1AI1cecHTltC",
        "colab": {
          "base_uri": "https://localhost:8080/",
          "height": 34
        },
        "outputId": "22e2b933-75a6-4188-f5c4-f311d2add0c2"
      },
      "source": [
        "Total_score = sum(sentiment_scores)/len(sentiment_scores)\n",
        "Total_score"
      ],
      "execution_count": null,
      "outputs": [
        {
          "output_type": "execute_result",
          "data": {
            "text/plain": [
              "0.2777777777777778"
            ]
          },
          "metadata": {
            "tags": []
          },
          "execution_count": 26
        }
      ]
    },
    {
      "cell_type": "code",
      "metadata": {
        "id": "3J4vG66eVNJr",
        "colab": {
          "base_uri": "https://localhost:8080/",
          "height": 34
        },
        "outputId": "a2ec4bed-9403-4c5b-e64f-cb8ddb12aa05"
      },
      "source": [
        "final_category = 'positive' if Total_score > 0 else 'negative' if Total_score < 0 else 'neutral' \n",
        "                                 \n",
        "final_category"
      ],
      "execution_count": null,
      "outputs": [
        {
          "output_type": "execute_result",
          "data": {
            "text/plain": [
              "'positive'"
            ]
          },
          "metadata": {
            "tags": []
          },
          "execution_count": 27
        }
      ]
    },
    {
      "cell_type": "code",
      "metadata": {
        "id": "puo8R6GIEs48",
        "colab": {
          "base_uri": "https://localhost:8080/",
          "height": 34
        },
        "outputId": "0b23f1b8-8672-4459-af44-059081dde5d1"
      },
      "source": [
        "direct_score = af.score(cleaned_title)\n",
        "print(direct_score)"
      ],
      "execution_count": null,
      "outputs": [
        {
          "output_type": "stream",
          "text": [
            "4.0\n"
          ],
          "name": "stdout"
        }
      ]
    },
    {
      "cell_type": "code",
      "metadata": {
        "id": "_wmHj-OdVdHF",
        "colab": {
          "base_uri": "https://localhost:8080/",
          "height": 482
        },
        "outputId": "86bf8333-2c2b-4b8a-e6eb-c80ed9f004df"
      },
      "source": [
        "articles = request['articles']\n",
        "flatten_articles = json_normalize(articles)\n",
        "flatten_articles.head(4)"
      ],
      "execution_count": null,
      "outputs": [
        {
          "output_type": "stream",
          "text": [
            "/usr/local/lib/python3.6/dist-packages/ipykernel_launcher.py:2: FutureWarning: pandas.io.json.json_normalize is deprecated, use pandas.json_normalize instead\n",
            "  \n"
          ],
          "name": "stderr"
        },
        {
          "output_type": "execute_result",
          "data": {
            "text/html": [
              "<div>\n",
              "<style scoped>\n",
              "    .dataframe tbody tr th:only-of-type {\n",
              "        vertical-align: middle;\n",
              "    }\n",
              "\n",
              "    .dataframe tbody tr th {\n",
              "        vertical-align: top;\n",
              "    }\n",
              "\n",
              "    .dataframe thead th {\n",
              "        text-align: right;\n",
              "    }\n",
              "</style>\n",
              "<table border=\"1\" class=\"dataframe\">\n",
              "  <thead>\n",
              "    <tr style=\"text-align: right;\">\n",
              "      <th></th>\n",
              "      <th>author</th>\n",
              "      <th>title</th>\n",
              "      <th>description</th>\n",
              "      <th>url</th>\n",
              "      <th>urlToImage</th>\n",
              "      <th>publishedAt</th>\n",
              "      <th>content</th>\n",
              "      <th>source.id</th>\n",
              "      <th>source.name</th>\n",
              "    </tr>\n",
              "  </thead>\n",
              "  <tbody>\n",
              "    <tr>\n",
              "      <th>0</th>\n",
              "      <td>Emily Price</td>\n",
              "      <td>How to Update Your iPhone and All Your Apps</td>\n",
              "      <td>Unlike Android devices, whose major updates ro...</td>\n",
              "      <td>https://lifehacker.com/how-to-update-your-ipho...</td>\n",
              "      <td>https://i.kinja-img.com/gawker-media/image/upl...</td>\n",
              "      <td>2020-05-15T17:45:00Z</td>\n",
              "      <td>Unlike Android devices, whose major updates ro...</td>\n",
              "      <td>None</td>\n",
              "      <td>Lifehacker.com</td>\n",
              "    </tr>\n",
              "    <tr>\n",
              "      <th>1</th>\n",
              "      <td>Beth Skwarecki on Vitals, shared by Beth Skwar...</td>\n",
              "      <td>How to Eat Healthy</td>\n",
              "      <td>Eating healthy is good for you, no matter who ...</td>\n",
              "      <td>https://vitals.lifehacker.com/how-to-eat-healt...</td>\n",
              "      <td>https://i.kinja-img.com/gawker-media/image/upl...</td>\n",
              "      <td>2020-05-15T20:15:00Z</td>\n",
              "      <td>Eating healthy is good for you, no matter who ...</td>\n",
              "      <td>None</td>\n",
              "      <td>Lifehacker.com</td>\n",
              "    </tr>\n",
              "    <tr>\n",
              "      <th>2</th>\n",
              "      <td>Mariella Moon</td>\n",
              "      <td>Apple could launch an 'affordable' 10-inch iPa...</td>\n",
              "      <td>Apple may have a couple more product launches ...</td>\n",
              "      <td>https://www.engadget.com/apple-affordable-10-i...</td>\n",
              "      <td>https://o.aolcdn.com/images/dims?resize=1200%2...</td>\n",
              "      <td>2020-05-15T03:35:24Z</td>\n",
              "      <td>Apple may have a couple more product launches ...</td>\n",
              "      <td>engadget</td>\n",
              "      <td>Engadget</td>\n",
              "    </tr>\n",
              "    <tr>\n",
              "      <th>3</th>\n",
              "      <td>Engadget</td>\n",
              "      <td>The Morning After: A free 'GTA V' offer crashe...</td>\n",
              "      <td>A little more than five years after NextVR str...</td>\n",
              "      <td>https://www.engadget.com/the-morning-after-gta...</td>\n",
              "      <td>https://o.aolcdn.com/images/dims?resize=1200%2...</td>\n",
              "      <td>2020-05-15T11:25:21Z</td>\n",
              "      <td>A little more than five years after NextVR str...</td>\n",
              "      <td>engadget</td>\n",
              "      <td>Engadget</td>\n",
              "    </tr>\n",
              "  </tbody>\n",
              "</table>\n",
              "</div>"
            ],
            "text/plain": [
              "                                              author  ...     source.name\n",
              "0                                        Emily Price  ...  Lifehacker.com\n",
              "1  Beth Skwarecki on Vitals, shared by Beth Skwar...  ...  Lifehacker.com\n",
              "2                                      Mariella Moon  ...        Engadget\n",
              "3                                           Engadget  ...        Engadget\n",
              "\n",
              "[4 rows x 9 columns]"
            ]
          },
          "metadata": {
            "tags": []
          },
          "execution_count": 14
        }
      ]
    },
    {
      "cell_type": "markdown",
      "metadata": {
        "id": "FhyZXJG3nnfd"
      },
      "source": [
        "### Emotions\n"
      ]
    },
    {
      "cell_type": "code",
      "metadata": {
        "id": "JLShYjXJXEyj",
        "colab": {
          "base_uri": "https://localhost:8080/",
          "height": 232
        },
        "outputId": "4a8e85c8-c00d-4e2a-cf03-683af783e315"
      },
      "source": [
        "emotionList =[]\n",
        "with open('emotions.txt','r') as file:\n",
        "  for line in file:\n",
        "    cleared_line = line.replace('\\n','').replace(\"'\",\"\").replace(',','').strip()\n",
        "    word, emotion = cleared_line.split(':')\n",
        "    if word in filtered_title:\n",
        "      print(word)\n",
        "      emotionList.append(emotion)\n",
        "\n",
        "print(emotionList) \n",
        "    \n",
        "    "
      ],
      "execution_count": null,
      "outputs": [
        {
          "output_type": "error",
          "ename": "FileNotFoundError",
          "evalue": "ignored",
          "traceback": [
            "\u001b[0;31m---------------------------------------------------------------------------\u001b[0m",
            "\u001b[0;31mFileNotFoundError\u001b[0m                         Traceback (most recent call last)",
            "\u001b[0;32m<ipython-input-15-6a92d2995798>\u001b[0m in \u001b[0;36m<module>\u001b[0;34m()\u001b[0m\n\u001b[1;32m      1\u001b[0m \u001b[0memotionList\u001b[0m \u001b[0;34m=\u001b[0m\u001b[0;34m[\u001b[0m\u001b[0;34m]\u001b[0m\u001b[0;34m\u001b[0m\u001b[0;34m\u001b[0m\u001b[0m\n\u001b[0;32m----> 2\u001b[0;31m \u001b[0;32mwith\u001b[0m \u001b[0mopen\u001b[0m\u001b[0;34m(\u001b[0m\u001b[0;34m'emotions.txt'\u001b[0m\u001b[0;34m,\u001b[0m\u001b[0;34m'r'\u001b[0m\u001b[0;34m)\u001b[0m \u001b[0;32mas\u001b[0m \u001b[0mfile\u001b[0m\u001b[0;34m:\u001b[0m\u001b[0;34m\u001b[0m\u001b[0;34m\u001b[0m\u001b[0m\n\u001b[0m\u001b[1;32m      3\u001b[0m   \u001b[0;32mfor\u001b[0m \u001b[0mline\u001b[0m \u001b[0;32min\u001b[0m \u001b[0mfile\u001b[0m\u001b[0;34m:\u001b[0m\u001b[0;34m\u001b[0m\u001b[0;34m\u001b[0m\u001b[0m\n\u001b[1;32m      4\u001b[0m     \u001b[0mcleared_line\u001b[0m \u001b[0;34m=\u001b[0m \u001b[0mline\u001b[0m\u001b[0;34m.\u001b[0m\u001b[0mreplace\u001b[0m\u001b[0;34m(\u001b[0m\u001b[0;34m'\\n'\u001b[0m\u001b[0;34m,\u001b[0m\u001b[0;34m''\u001b[0m\u001b[0;34m)\u001b[0m\u001b[0;34m.\u001b[0m\u001b[0mreplace\u001b[0m\u001b[0;34m(\u001b[0m\u001b[0;34m\"'\"\u001b[0m\u001b[0;34m,\u001b[0m\u001b[0;34m\"\"\u001b[0m\u001b[0;34m)\u001b[0m\u001b[0;34m.\u001b[0m\u001b[0mreplace\u001b[0m\u001b[0;34m(\u001b[0m\u001b[0;34m','\u001b[0m\u001b[0;34m,\u001b[0m\u001b[0;34m''\u001b[0m\u001b[0;34m)\u001b[0m\u001b[0;34m.\u001b[0m\u001b[0mstrip\u001b[0m\u001b[0;34m(\u001b[0m\u001b[0;34m)\u001b[0m\u001b[0;34m\u001b[0m\u001b[0;34m\u001b[0m\u001b[0m\n\u001b[1;32m      5\u001b[0m     \u001b[0mword\u001b[0m\u001b[0;34m,\u001b[0m \u001b[0memotion\u001b[0m \u001b[0;34m=\u001b[0m \u001b[0mcleared_line\u001b[0m\u001b[0;34m.\u001b[0m\u001b[0msplit\u001b[0m\u001b[0;34m(\u001b[0m\u001b[0;34m':'\u001b[0m\u001b[0;34m)\u001b[0m\u001b[0;34m\u001b[0m\u001b[0;34m\u001b[0m\u001b[0m\n",
            "\u001b[0;31mFileNotFoundError\u001b[0m: [Errno 2] No such file or directory: 'emotions.txt'"
          ]
        }
      ]
    },
    {
      "cell_type": "code",
      "metadata": {
        "id": "kbaUYGNxn6J9"
      },
      "source": [
        "from collections import Counter"
      ],
      "execution_count": null,
      "outputs": []
    },
    {
      "cell_type": "code",
      "metadata": {
        "id": "NwaLhM_wBTgM",
        "colab": {
          "base_uri": "https://localhost:8080/",
          "height": 181
        },
        "outputId": "5d81f9a8-1c9d-4e2d-b780-76a12ed91fc2"
      },
      "source": [
        "counter = Counter(sentiment_category)\n",
        "counter"
      ],
      "execution_count": null,
      "outputs": [
        {
          "output_type": "error",
          "ename": "NameError",
          "evalue": "ignored",
          "traceback": [
            "\u001b[0;31m---------------------------------------------------------------------------\u001b[0m",
            "\u001b[0;31mNameError\u001b[0m                                 Traceback (most recent call last)",
            "\u001b[0;32m<ipython-input-16-869c493b03b0>\u001b[0m in \u001b[0;36m<module>\u001b[0;34m()\u001b[0m\n\u001b[0;32m----> 1\u001b[0;31m \u001b[0mcounter\u001b[0m \u001b[0;34m=\u001b[0m \u001b[0mCounter\u001b[0m\u001b[0;34m(\u001b[0m\u001b[0msentiment_category\u001b[0m\u001b[0;34m)\u001b[0m\u001b[0;34m\u001b[0m\u001b[0;34m\u001b[0m\u001b[0m\n\u001b[0m\u001b[1;32m      2\u001b[0m \u001b[0mcounter\u001b[0m\u001b[0;34m\u001b[0m\u001b[0;34m\u001b[0m\u001b[0m\n",
            "\u001b[0;31mNameError\u001b[0m: name 'Counter' is not defined"
          ]
        }
      ]
    },
    {
      "cell_type": "code",
      "metadata": {
        "id": "dV_B8rhMBpQ0"
      },
      "source": [
        "import matplotlib.pyplot as plt\n",
        "%matplotlib inline"
      ],
      "execution_count": null,
      "outputs": []
    },
    {
      "cell_type": "code",
      "metadata": {
        "id": "qP4DIOeHGolr",
        "colab": {
          "base_uri": "https://localhost:8080/",
          "height": 265
        },
        "outputId": "d557d9be-26ea-4d2e-895b-4976d572dbba"
      },
      "source": [
        "plt.bar(counter.keys(), counter.values())\n",
        "plt.show()"
      ],
      "execution_count": null,
      "outputs": [
        {
          "output_type": "display_data",
          "data": {
            "image/png": "[encoded data removed]",
            "text/plain": [
              "<Figure size 432x288 with 1 Axes>"
            ]
          },
          "metadata": {
            "tags": [],
            "needs_background": "light"
          }
        }
      ]
    },
    {
      "cell_type": "code",
      "metadata": {
        "id": "Q4jQ-JiBGz5_"
      },
      "source": [
        ""
      ],
      "execution_count": null,
      "outputs": []
    }
  ]
}